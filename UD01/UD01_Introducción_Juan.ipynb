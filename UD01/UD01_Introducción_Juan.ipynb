{
 "cells": [
  {
   "cell_type": "markdown",
   "metadata": {},
   "source": [
    "EJERCICIO 1. Mira el vídeo de este enlace sobre la diferencia entre algoritmos de aprendizaje y\n",
    "modelos en Machine Learning y responde a estas preguntas:"
   ]
  },
  {
   "cell_type": "markdown",
   "metadata": {},
   "source": [
    "a) ¿Qué tarea quieren que haga el sistema de Machine Learning?\n",
    "\n",
    "\tClasificar adecuadamente los dos tipos de cliente que hay entre inversor y consumidor\n",
    "\n",
    " b) ¿Qué datos se usan de cada cliente?\n",
    "\n",
    "\tSe usará el nivel de ingreso y el nivel de endeudamiento de cada cliente\n",
    "\n",
    " c) ¿Qué modelo se usa en el vídeo? El modelo estará formado por unos parámetros y un criterio\n",
    " de decisión ¿Cuales son sus parámetros? ¿Y el criterio?\n",
    "\n",
    "\tEl modelo de Machine Learning. Tendrá la ecuación de la línea recta con los parámetros finales encontrados por el algoritmo y el criterio donde se hará una clasificación, donde se reemplazará el nivel de endeudamiento y de ingreso para obtener, el cual si es positivo tendrá categoría de inversor y si es negativo consumidor. Con esto podremos llegar a crear predicciones para nuestros datos\n",
    "\n",
    " f) ¿Cuál es el primer paso del algoritmo?\n",
    "\n",
    "\tEl de asignar unos valores iniciales totalmente aleatorios a los parámetros que queremos encontrar para garantizar que no se va a influir de manera alguna en los resultados que arroje el algoritmo y también que los parámetros serán encontrados de forma automática, a partir de los datos\n",
    "\n",
    "\tCon este paso puede que muchos clientes no sean clasificados de manera correcta todavía, por lo que habrá adicionalmente seguir los siguientes pasos\n",
    "\n",
    "\tTomar la primera recta construida con los parámetros aleatorios, reemplazar los niveles de ingreso y endeudamiento de cada cliente y en base a los resultados obtenidos (positivos o negativos), clasificar a cada cliente como inversor o consumidor (Generar una predicción)"
   ]
  },
  {
   "cell_type": "markdown",
   "metadata": {},
   "source": [
    "EJERCICIO 2. Consulta el artículo sobre un inconveniente del ML y:"
   ]
  },
  {
   "cell_type": "markdown",
   "metadata": {},
   "source": [
    "a) Resume en un par de líneas el problema que presenta\n",
    "\n",
    "    El problema que representa es que el Machine Learning produce un gran aumento de las emisiones de carbono, por culpa de los costes energéticos de entrenar modelos, que son altos\n",
    "\n",
    "b) ¿En qué consisten las 4M que se proponen para solucionarlo?\n",
    "\n",
    "    Consisten en cuatro prácticas que reducirán significativamente las emisiones de carbono y energía.\n",
    "\n",
    "    Modelo, con arquitecturas de modelos de ML más eficientes (modelos dispersos) que pueden mejorar la calidad del ML y reducir el procesamiento entre 3 y 10 veces\n",
    "\n",
    "    Máquina, con procesadores y sistemas optimizados para el entrenamiento del ML, en vez de usar los procesadores de uso general. Con esto se puede mejorar el rendimiento y la eficiencia entre 2 y 5 veces\n",
    "\n",
    "    Mecanización, con la que usar computación en la nube en vez de usar instalaciones reduce el consumo de energía, además de las emisiones entre 1,4 y 2 veces. Los centros que albergan la nube están diseñados a medida y equipados para contener 50000 servidores, ofreciendo así una buena eficacia en el uso de la energía\n",
    "\n",
    "    Optimización de mapas, donde se permite elegir a los clientes la ubicación con la energía más limpia, lo que reduce la huella de carbono bruta entre 5 y 10 veces\n",
    "\n",
    "    Las 4M juntas pueden reducir el consumo de energía en 100 veces y las emisiones en 1000 veces"
   ]
  },
  {
   "cell_type": "markdown",
   "metadata": {},
   "source": [
    "EJERCICIO 3. Mira el vídeo de este enlace sobre cómo saber si es apropiado usar Machine\n",
    "Learning para resolver un problema o no es una buena idea y sería mejor usar otras alternativas:"
   ]
  },
  {
   "cell_type": "markdown",
   "metadata": {},
   "source": [
    "a) Escribe la definición de ML que indican en el vídeo\n",
    "\n",
    "    El Machine Learning es un enfoque que permite aprender patrones complejos a partir de datos existentes, y usar estos patrones para realizar predicciones sobre datos nunca antes analizados\n",
    "\n",
    "b) Escribe un árbol de decisión que esquematice cuando sería buena idea y cuando no.\n",
    "Nota: Un árbol de decisión es un árbol binario invertido (la raíz arriba) donde cada nodo\n",
    "equivale a una pregunta con dos posibles respuestas de tipo SI/NO a la pregunta del nodo. y\n",
    "su se sigue la respuesta te lleva a una nueva pregunta o a un nodo final que indica una\n",
    "solución\n",
    "\n",
    "    Ante cualquier dilema ético que pueda tener consecuencias negativas es mejor no usar el ML ni ningún otro enfoque\n",
    "\n",
    "    Si los datos obedecen a un proceso determinístico es mejor no usar el ML, además de no ser necesario (determinístico es aleatorio)\n",
    "    Si los datos obedecen a un proceso estocástico sí se puede usar el ML (ejemplo predecir unas ventas futuras con datos de ventas anteriores)\n",
    "\n",
    "    Para saber si los datos son suficientes para el ML podemos usar 3 reglas básicas\n",
    "    Si es un problema de clasificación podemos definir un factor dependiendo del número de clases. Por cada categoría se requieren 100, 1000 o 10000 ejemplos de entrenamiento\n",
    "    Se puede definir un factor dependiendo del número de carácteristicas de cada dato. Por ejemplo si hay 9 carácteristicas el número de ejemplos puede ser de 100, 1000 o 10000 por cada una de ellas\n",
    "    La última regla se puede definir según el número de parámetros. Si es de 100000 parámetros podrá ser de 5 o hasta 50 veces\n",
    "\n",
    "    Si los datos recolectados para el ML no son suficientes la solución es Recolectar más datos\n",
    "    Si sí hay una cantidad de datos adecuada estamos más cerca de confirmar que el ML es la solución..\n",
    "    Después habrá que ver si los datos son estructurados o no estructurados\n",
    "\n",
    "    Si los datos son estructurados la solución es el ML (si los datos son estructurados pero para realizar la prediccion no podemos codificar las reglas explicitamente la solución es el ML). Si los datos son no estructurados o están combinados con datos estrucutrados la solución también es el ML\n",
    "\n",
    "    \n",
    "\n",
    "\n",
    "\n"
   ]
  },
  {
   "cell_type": "markdown",
   "metadata": {},
   "source": []
  },
  {
   "cell_type": "code",
   "execution_count": null,
   "metadata": {},
   "outputs": [],
   "source": []
  }
 ],
 "metadata": {
  "kernelspec": {
   "display_name": "Python 3",
   "language": "python",
   "name": "python3"
  },
  "language_info": {
   "codemirror_mode": {
    "name": "ipython",
    "version": 3
   },
   "file_extension": ".py",
   "mimetype": "text/x-python",
   "name": "python",
   "nbconvert_exporter": "python",
   "pygments_lexer": "ipython3",
   "version": "3.12.6"
  }
 },
 "nbformat": 4,
 "nbformat_minor": 2
}

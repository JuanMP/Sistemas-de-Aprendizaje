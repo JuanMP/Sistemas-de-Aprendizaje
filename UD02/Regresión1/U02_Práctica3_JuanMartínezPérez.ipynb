{
 "cells": [
  {
   "cell_type": "markdown",
   "metadata": {},
   "source": [
    "# U02 PRÁCTICA 03\n",
    "\n",
    "## ALGORITMOS DE REGRESIÓN Y MÉTODOS DE TRABAJO\n"
   ]
  },
  {
   "cell_type": "markdown",
   "metadata": {},
   "source": [
    "### Regresión Lineal Simple\n",
    "\n",
    "Crea el fichero u02_p03_a1_reglin_simple_<tus_iniciales>.py o bien .ipynb. Utiliza pandas y carga\n",
    "los datos del fichero \"50_startups.csv\". Utilizaremos como predictora la columna \"R&D Spend\" (que\n",
    "significa gasto en I+D) y como target usaremos \"Profit\" (beneficios).\n",
    "Como todo es un proceso aleatorio, para poder obtener resultados comparables vamos a utilizar la\n",
    "semilla \"123\" en todos los procesos. Divide los datos en train y test dejando el 80% para entrenamiento.\n",
    "Haz un gráfico scatterplot() de los datos, con los datos de entrenamiento como círculos de color rojo\n",
    "y los de test círculos de color verde. Pon leyenda a cada variable y título \"Inversión I+D vs Beneficio\n",
    "de <tus iniciales>\"."
   ]
  },
  {
   "cell_type": "markdown",
   "metadata": {},
   "source": []
  }
 ],
 "metadata": {
  "language_info": {
   "name": "python"
  }
 },
 "nbformat": 4,
 "nbformat_minor": 2
}

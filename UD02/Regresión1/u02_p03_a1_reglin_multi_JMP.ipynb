{
 "cells": [
  {
   "cell_type": "markdown",
   "metadata": {},
   "source": [
    "#### UD02 PRACTICA 3\n",
    "## REGRESIÓN LINEAL MÚLTIPLE\n",
    "\n",
    "### Utiliza pandas y carga los datos\n",
    "fichero \"50_startups.csv\". Utilizaremos como predictoras las columnas \"R&D Spend\", \"Marqueting\n",
    "Spend\" y \"State\" y como target usaremos \"Profit\" (beneficios). Imprime los 5 primeros ejemplos de las\n",
    "predictoras:\n",
    "\n",
    "#### Importación de Librerías"
   ]
  },
  {
   "cell_type": "code",
   "execution_count": 36,
   "metadata": {},
   "outputs": [],
   "source": [
    "import pandas as pd\n",
    "\n",
    "from sklearn.compose import ColumnTransformer\n",
    "from sklearn.preprocessing import OneHotEncoder\n",
    "\n",
    "from sklearn.model_selection import train_test_split #para division de los datos\n",
    "\n",
    "from sklearn.linear_model import LinearRegression #importacion del LinearRegression\n",
    "\n",
    "import numpy as np #para la obtencion del SSE, SSR.."
   ]
  },
  {
   "cell_type": "markdown",
   "metadata": {},
   "source": [
    "#### Carga del csv y primeros datos"
   ]
  },
  {
   "cell_type": "code",
   "execution_count": 19,
   "metadata": {},
   "outputs": [
    {
     "name": "stdout",
     "output_type": "stream",
     "text": [
      "   R&D Spend  Marketing Spend       State\n",
      "0  165349.20        471784.10    New York\n",
      "1  162597.70        443898.53  California\n",
      "2  153441.51        407934.54     Florida\n",
      "3  144372.41        383199.62    New York\n",
      "4  142107.34        366168.42     Florida\n"
     ]
    }
   ],
   "source": [
    "df = pd.read_csv('50_Startups.csv')\n",
    "\n",
    "#Seleccionamos las columnas predictoras R&D Spend, Marqueting Spend y State\n",
    "X = df[['R&D Spend', 'Marketing Spend', 'State']]\n",
    "y = df['Profit'] #target\n",
    "\n",
    "#Imprimir los 5 primeros\n",
    "print(X.head())"
   ]
  },
  {
   "cell_type": "markdown",
   "metadata": {},
   "source": [
    "Para realizar regresión lineal no podemos usar una columna categórica como \"State\".\n",
    "\n",
    "Codifica sus valores usando el método one-hot-encoder de manera que aparecerán 3 nuevas columnas que corresponden a cada uno de los valores que puede tener la columna original (‘New York’, ‘California’, ‘Florida’) y sus valores estarán a 1 cuando sea ese valor y a 0 cuando no. En vez de hacerlo a mano, vamos a utilizar los objetos sklearn.compose.ColumnTransformer y sklearn.preprocessing.OneHotEncoder"
   ]
  },
  {
   "cell_type": "code",
   "execution_count": 20,
   "metadata": {},
   "outputs": [
    {
     "name": "stdout",
     "output_type": "stream",
     "text": [
      "<class 'pandas.core.frame.DataFrame'>\n",
      "RangeIndex: 50 entries, 0 to 49\n",
      "Data columns (total 5 columns):\n",
      " #   Column           Non-Null Count  Dtype  \n",
      "---  ------           --------------  -----  \n",
      " 0   R&D Spend        50 non-null     float64\n",
      " 1   Administration   50 non-null     float64\n",
      " 2   Marketing Spend  50 non-null     float64\n",
      " 3   State            50 non-null     object \n",
      " 4   Profit           50 non-null     float64\n",
      "dtypes: float64(4), object(1)\n",
      "memory usage: 2.1+ KB\n"
     ]
    }
   ],
   "source": [
    "df.info() #Comprobamos que es verdad que es categórica State"
   ]
  },
  {
   "cell_type": "code",
   "execution_count": 21,
   "metadata": {},
   "outputs": [
    {
     "name": "stdout",
     "output_type": "stream",
     "text": [
      "Después de aplicar OneHotEncoder a State\n",
      "   encoder__State_California  encoder__State_Florida  encoder__State_New York  \\\n",
      "0                        0.0                     0.0                      1.0   \n",
      "1                        1.0                     0.0                      0.0   \n",
      "2                        0.0                     1.0                      0.0   \n",
      "3                        0.0                     0.0                      1.0   \n",
      "4                        0.0                     1.0                      0.0   \n",
      "\n",
      "   remainder__R&D Spend  remainder__Marketing Spend  \n",
      "0             165349.20                   471784.10  \n",
      "1             162597.70                   443898.53  \n",
      "2             153441.51                   407934.54  \n",
      "3             144372.41                   383199.62  \n",
      "4             142107.34                   366168.42  \n"
     ]
    }
   ],
   "source": [
    "#Aplicar One-Hot Encoding a la columna categórica \"State\"\n",
    "column_transformer = ColumnTransformer(transformers=[\n",
    "    ('encoder', OneHotEncoder(), ['State'])\n",
    "], remainder='passthrough') #todas las demás columnas se mantienen sin cambios\n",
    "\n",
    "X_encoded = column_transformer.fit_transform(X) #aplica la transformación\n",
    "\n",
    "#Convertir a DataFrame con nombres de columnas adecuados\n",
    "encoded_columns = column_transformer.get_feature_names_out()\n",
    "X_encoded_df = pd.DataFrame(X_encoded, columns=encoded_columns)\n",
    "\n",
    "#Imprimir los 5 primeros ejemplos de los datos transformados\n",
    "print(\"Después de aplicar OneHotEncoder a State\")\n",
    "print(X_encoded_df.head())"
   ]
  },
  {
   "cell_type": "markdown",
   "metadata": {},
   "source": [
    "Como todo es un proceso aleatorio, para poder obtener resultados comparables utilizamos la semilla \"123\" en todos los procesos.\n",
    "\n",
    "Divide los datos en train y test dejando el 80% para entrenamiento.\n",
    "\n",
    "Imprime los 5 primeros ejemplos de **X_train, y_train, X_test** e **y_test:**"
   ]
  },
  {
   "cell_type": "code",
   "execution_count": null,
   "metadata": {},
   "outputs": [
    {
     "name": "stdout",
     "output_type": "stream",
     "text": [
      "X_train 5 primeras filas:\n",
      "     encoder__State_California  encoder__State_Florida  \\\n",
      "21                        0.0                     0.0   \n",
      "47                        1.0                     0.0   \n",
      "11                        1.0                     0.0   \n",
      "41                        0.0                     1.0   \n",
      "5                         0.0                     0.0   \n",
      "\n",
      "    encoder__State_New York  remainder__R&D Spend  remainder__Marketing Spend  \n",
      "21                      1.0              78389.47                   299737.29  \n",
      "47                      0.0                  0.00                        0.00  \n",
      "11                      0.0             100671.96                   249744.55  \n",
      "41                      0.0              27892.92                   164470.71  \n",
      "5                       1.0             131876.90                   362861.36  \n",
      "y_train 5 primeras filas:\n",
      " 21    111313.02\n",
      "47     42559.73\n",
      "11    144259.40\n",
      "41     77798.83\n",
      "5     156991.12\n",
      "Name: Profit, dtype: float64\n",
      "X_test 5 primeras filas:\n",
      "     encoder__State_California  encoder__State_Florida  \\\n",
      "10                        0.0                     1.0   \n",
      "13                        1.0                     0.0   \n",
      "30                        0.0                     1.0   \n",
      "46                        0.0                     1.0   \n",
      "18                        0.0                     1.0   \n",
      "\n",
      "    encoder__State_New York  remainder__R&D Spend  remainder__Marketing Spend  \n",
      "10                      0.0             101913.08                   229160.95  \n",
      "13                      0.0              91992.39                   252664.93  \n",
      "30                      0.0              61994.48                    91131.24  \n",
      "46                      0.0               1315.46                   297114.46  \n",
      "18                      0.0              91749.16                   294919.57  \n",
      "y_test 5 primeras filas:\n",
      " 10    146121.95\n",
      "13    134307.35\n",
      "30     99937.59\n",
      "46     49490.75\n",
      "18    124266.90\n",
      "Name: Profit, dtype: float64\n"
     ]
    }
   ],
   "source": [
    "#Dividimos los datos en train y test\n",
    "X_train, X_test, y_train, y_test = train_test_split(X_encoded_df, y, test_size=0.2, random_state=123)\n",
    "\n",
    "\n",
    "#Imprimimos los 5 primeros ejemplos\n",
    "print(\"X_train 5 primeras filas:\\n\", X_train.head())\n",
    "print(\"y_train 5 primeras filas:\\n\", y_train.head())\n",
    "print(\"X_test 5 primeras filas:\\n\", X_test.head())\n",
    "print(\"y_test 5 primeras filas:\\n\", y_test.head())"
   ]
  },
  {
   "cell_type": "markdown",
   "metadata": {},
   "source": [
    "Crea un objeto sklearn.linear_model.LinearRegression y lo entrenas. Calcula su score para datos de train y test"
   ]
  },
  {
   "cell_type": "code",
   "execution_count": 34,
   "metadata": {},
   "outputs": [
    {
     "name": "stdout",
     "output_type": "stream",
     "text": [
      "R2 score (Train): 0.9449\n",
      "R2 score (Test): 0.9658\n"
     ]
    }
   ],
   "source": [
    "#Creamos y entrenar el modelo de regresión lineal para train y test\n",
    "model = LinearRegression()\n",
    "model.fit(X_train, y_train)\n",
    "\n",
    "#Calculamos el score R2 para train y test\n",
    "r2_train = model.score(X_train, y_train)\n",
    "r2_test = model.score(X_test, y_test)\n",
    "print(f\"R2 score (Train): {r2_train:.4f}\")\n",
    "print(f\"R2 score (Test): {r2_test:.4f}\")"
   ]
  },
  {
   "cell_type": "markdown",
   "metadata": {},
   "source": [
    "#### ENTREGA 1\n",
    "\n",
    "##### a) Captura de imágenes\n",
    "\n",
    "Ya documentado\n",
    "\n",
    "##### b) ¿Qué significa en este caso que el score sea aproximadamente del 0.966 en los datos de test?\n",
    "\n",
    "Significa que el modelo tiene una buena precisión en la predicción del resultado en el conjunto de los datos de prueba\n",
    "\n",
    "\n",
    "----------------------------------------\n",
    "\n",
    "\n",
    "Ahora mira los apuntes de la unidad y como se calcula el SSE, SST y SSR, R2\n",
    " y R\n",
    "2 ajustado. Define 3\n",
    "funciones de Python que calcule el el SSE, SST y SSR. Calcula e imprime sus valores para los datos de\n",
    "train y test\n",
    "\n",
    "#### Obtención del SSE, SST, SSR, R2 y R2 ajustado"
   ]
  },
  {
   "cell_type": "code",
   "execution_count": 44,
   "metadata": {},
   "outputs": [
    {
     "name": "stdout",
     "output_type": "stream",
     "text": [
      "SSE (Train): 3489621036.3920, SSE (Test): 516139212.6672\n",
      "SST (Train): 63300608353.7709, SST (Test): 15071605761.1151\n",
      "SSR (Train): 59810987317.3789, SSR (Test): 14555466548.4479\n",
      "R2 (Train): 0.9449, R2 (Test): 0.9658\n",
      "R2 Ajustado (Train): 0.9368, R2 Ajustado (Test): 0.9229\n"
     ]
    }
   ],
   "source": [
    "#Obtención del SSE (Es la suma de Errores al cuadrado)\n",
    "def calcula_sse(y_real, y_pred):\n",
    "    return np.sum((y_real - y_pred) **2)\n",
    "\n",
    "#Obtención del SST (Es la suma total de los cuadrados)\n",
    "def calcula_sst(y_real):\n",
    "    return np.sum((y_real - np.mean(y_real)) **2 )\n",
    "\n",
    "#Obtención del SSR (Es la suma de los cuadrados de la regresión)\n",
    "def calcula_ssr(y_real, y_pred):\n",
    "    return calcula_sst(y_real) - calcula_sse(y_real, y_pred)\n",
    "\n",
    "\n",
    "#Obtener predicciones del modelo\n",
    "y_train_pred = model.predict(X_train)\n",
    "y_test_pred = model.predict(X_test)\n",
    "\n",
    "#Calculamos los valores para train y test\n",
    "sse_train = calcula_sse(y_train, y_train_pred)\n",
    "sst_train = calcula_sst(y_train)\n",
    "ssr_train = calcula_ssr(y_train, y_train_pred)\n",
    "\n",
    "sse_test = calcula_sse(y_test, y_test_pred)\n",
    "sst_test = calcula_sst(y_test)\n",
    "ssr_test = calcula_ssr(y_test, y_test_pred)\n",
    "\n",
    "#Calculamos el R2\n",
    "r2_train = 1 - (sse_train / sst_train)\n",
    "r2_test = 1 - (sse_test / sst_test)\n",
    "\n",
    "#Calculamos el R2 ajustado\n",
    "n_train, p = X_train.shape  # n = número de muestras, p = número de predictores\n",
    "n_test = X_test.shape[0]\n",
    "\n",
    "r2_adj_train = 1 - ((1 - r2_train) * (n_train - 1) / (n_train - p - 1))\n",
    "r2_adj_test = 1 - ((1 - r2_test) * (n_test - 1) / (n_test - p - 1))\n",
    "\n",
    "\n",
    "#Resultados\n",
    "print(f\"SSE (Train): {sse_train:.4f}, SSE (Test): {sse_test:.4f}\")\n",
    "print(f\"SST (Train): {sst_train:.4f}, SST (Test): {sst_test:.4f}\")\n",
    "print(f\"SSR (Train): {ssr_train:.4f}, SSR (Test): {ssr_test:.4f}\")\n",
    "print(f\"R2 (Train): {r2_train:.4f}, R2 (Test): {r2_test:.4f}\")\n",
    "print(f\"R2 Ajustado (Train): {r2_adj_train:.4f}, R2 Ajustado (Test): {r2_adj_test:.4f}\")\n"
   ]
  },
  {
   "cell_type": "markdown",
   "metadata": {},
   "source": []
  }
 ],
 "metadata": {
  "kernelspec": {
   "display_name": "Python 3",
   "language": "python",
   "name": "python3"
  },
  "language_info": {
   "codemirror_mode": {
    "name": "ipython",
    "version": 3
   },
   "file_extension": ".py",
   "mimetype": "text/x-python",
   "name": "python",
   "nbconvert_exporter": "python",
   "pygments_lexer": "ipython3",
   "version": "3.12.6"
  }
 },
 "nbformat": 4,
 "nbformat_minor": 2
}

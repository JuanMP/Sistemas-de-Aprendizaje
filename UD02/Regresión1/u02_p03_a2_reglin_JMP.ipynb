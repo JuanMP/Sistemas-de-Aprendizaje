{
 "cells": [
  {
   "cell_type": "markdown",
   "metadata": {},
   "source": [
    "## 📌ACTIVIDAD 2: UN CASO MÁS REAL\n",
    "\n",
    "Crea el fichero u02_p03_a2_reglin_<tus_iniciales>.py. Vamos a trabajar con los datos del fichero \"seguros_de_coches.csv\" que utiliza una compañía aseguradora\n",
    "\n",
    "Hay 3 tipos de características:\n",
    "(a) La especificación de un automóvil en términos de diferentes características.\n",
    "\n",
    "(b) Su calificación de riesgo de seguro asignada. Es un indicador del grado en que el automóvil es más problemático de lo que indica su precio. Inicialmente, a los automóviles se les asigna un símbolo de factor de riesgo asociado con su precio. Luego, si es más arriesgado (o menos), este símbolo se ajusta moviéndolo hacia arriba (o hacia abajo) en la escala. Los\n",
    "profesionales llaman a este proceso “symboling”. Un valor de 3 indica que el automóvil es\n",
    "riesgoso y -3 que probablemente sea bastante seguro.\n",
    "(c) El pago medio relativo por pérdida por año de vehículo asegurado. Este valor está\n",
    "normalizado para todos los automóviles dentro de una clasificación de tamaño particular (twodoor small, station wagons, sports/speciality, etc…) y representa la pérdida promedio por\n",
    "automóvil por año.\n",
    "Hay que tener en cuenta que los valores ausentes están definidos con un “?”. Completa los siguientes\n",
    "pasos en el fichero Python comenzando por:\n",
    "a) Cargar los datos en un Dataframe, (adapta la ruta al código de la siguiente figura).\n",
    "b) Mostrar los 5 primeros ejemplos por pantalla (completa y obtén mismos resultados).\n",
    "c) Muestra un resumen de las columnas del dataset (completa y obtén mismos resultados). "
   ]
  },
  {
   "cell_type": "markdown",
   "metadata": {},
   "source": []
  }
 ],
 "metadata": {
  "language_info": {
   "name": "python"
  }
 },
 "nbformat": 4,
 "nbformat_minor": 2
}

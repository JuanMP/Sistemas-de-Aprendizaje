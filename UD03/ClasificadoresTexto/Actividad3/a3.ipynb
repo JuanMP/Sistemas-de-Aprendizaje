{
 "cells": [
  {
   "cell_type": "markdown",
   "id": "eeccf592",
   "metadata": {},
   "source": [
    "### ACTIVIDAD 3: DETECTANDO SPAM EN MENSAJES SMS.\n"
   ]
  },
  {
   "cell_type": "code",
   "execution_count": 5,
   "id": "550083bc",
   "metadata": {},
   "outputs": [
    {
     "name": "stdout",
     "output_type": "stream",
     "text": [
      "== Dimensiones:  (5572, 2)\n",
      "== Primeros 5 ejemplos:\n",
      "   Label                                                SMS\n",
      "0   ham  Go until jurong point, crazy.. Available only ...\n",
      "1   ham                      Ok lar... Joking wif u oni...\n",
      "2  spam  Free entry in 2 a wkly comp to win FA Cup fina...\n",
      "3   ham  U dun say so early hor... U c already then say...\n",
      "4   ham  Nah I don't think he goes to usf, he lives aro...\n",
      "== Información de las columnas:\n",
      "<class 'pandas.core.frame.DataFrame'>\n",
      "RangeIndex: 5572 entries, 0 to 5571\n",
      "Data columns (total 2 columns):\n",
      " #   Column  Non-Null Count  Dtype \n",
      "---  ------  --------------  ----- \n",
      " 0   Label   5572 non-null   object\n",
      " 1   SMS     5572 non-null   object\n",
      "dtypes: object(2)\n",
      "memory usage: 87.2+ KB\n",
      "None\n",
      "== Porcentajes de spam y ham:\n",
      "Label\n",
      "ham     0.865937\n",
      "spam    0.134063\n",
      "Name: proportion, dtype: float64\n",
      "== Dimensiones de train: (4458, 2)\n",
      "== Dimensiones de test: (1114, 2)\n",
      "== Porcentajes de spam en datos train:\n",
      "Label\n",
      "ham     0.86541\n",
      "spam    0.13459\n",
      "Name: proportion, dtype: float64\n",
      "== Porcentajes de spam en datos test:\n",
      "Label\n",
      "ham     0.868043\n",
      "spam    0.131957\n",
      "Name: proportion, dtype: float64\n",
      "ANTES DE LA LIMPIEZA:\n",
      "0                     Yep, by the pretty sculpture\n",
      "1    Yes, princess. Are you going to make me moan?\n",
      "Name: SMS, dtype: object\n",
      "\n",
      "DESPUÉS DE LA LIMPIEZA:\n",
      "0                     yep  by the pretty sculpture\n",
      "1    yes  princess  are you going to make me moan \n",
      "Name: SMS, dtype: object\n"
     ]
    }
   ],
   "source": [
    "# -*- coding: utf-8 -*-\n",
    "import pandas as pd\n",
    "\n",
    "sms_spam = pd.read_csv('SMSSpamCollection.csv', sep='\\t', header=None, names=['Label', 'SMS'])\n",
    "print(\"== Dimensiones: \", sms_spam.shape)\n",
    "print(\"== Primeros 5 ejemplos:\\n\", sms_spam.head() )\n",
    "print(\"== Información de las columnas:\")\n",
    "print(sms_spam.info())\n",
    "\n",
    "print(\"== Porcentajes de spam y ham:\")\n",
    "print( sms_spam['Label'].value_counts(normalize=True) )\n",
    "\n",
    "# Dividir en train y test\n",
    "datos = sms_spam.sample(frac=1, random_state=1) # Aleatorizar dataset\n",
    "indices = round( len(datos) * 0.8 )                 # Calcula índices división\n",
    "train = datos[:indices].reset_index(drop=True)\n",
    "test = datos[indices:].reset_index(drop=True)\n",
    "print(\"== Dimensiones de train:\", train.shape)\n",
    "print(\"== Dimensiones de test:\", test.shape)\n",
    "print(\"== Porcentajes de spam en datos train:\")\n",
    "print( train['Label'].value_counts(normalize=True) )\n",
    "print(\"== Porcentajes de spam en datos test:\")\n",
    "print( test['Label'].value_counts(normalize=True) )\n",
    "\n",
    "import re\n",
    "import string\n",
    "\n",
    "# Mostrar las dos primeras filas ANTES de limpiar\n",
    "print(\"ANTES DE LA LIMPIEZA:\")\n",
    "print(train['SMS'].head(2))\n",
    "\n",
    "# Limpieza de datos\n",
    "train['SMS'] = train['SMS'].str.replace('[{}]'.format(re.escape(string.punctuation)), ' ', regex=True)  # Quitar signos\n",
    "train['SMS'] = train['SMS'].str.lower()  # Convertir a minúsculas\n",
    "\n",
    "# Mostrar las dos primeras filas DESPUÉS de limpiar\n",
    "print(\"\\nDESPUÉS DE LA LIMPIEZA:\")\n",
    "print(train['SMS'].head(2))"
   ]
  },
  {
   "cell_type": "markdown",
   "id": "9e1365b2",
   "metadata": {},
   "source": [
    "### ENTREGA 8:\n",
    "\n",
    "Modifica este trozo de código y añade dos sentencias para que muestre las dos primeras\n",
    "filas de train antes y después de aplicar la limpieza de datos como se ve en la figura de abajo para\n",
    "comprobar que efectivamente eliminas los signos de puntuación y conviertes a minúsculas. Si no\n",
    "consigue hacerlo intenta algunas de estas modificaciones:\n",
    "\n",
    "- Importa re (expresiones regulares) y string y sustituye la línea 27 por esta: train['SMS'] =\n",
    "re.sub('[%s]' % re.escape(string.punctuation), ' ', train['SMS'].str)\n",
    "- Importa string y sustituye la línea 27 por esta: train['SMS'] =\n",
    "train['SMS'].str.replace('[{}]'.format(string.punctuation), ' ', regex=True)\n",
    "- A la función replace() de la línea 27 le añades el parámetro: regex=True\n",
    "\n"
   ]
  },
  {
   "cell_type": "code",
   "execution_count": null,
   "id": "ac7abeec",
   "metadata": {},
   "outputs": [],
   "source": []
  }
 ],
 "metadata": {
  "kernelspec": {
   "display_name": "Python 3",
   "language": "python",
   "name": "python3"
  },
  "language_info": {
   "codemirror_mode": {
    "name": "ipython",
    "version": 3
   },
   "file_extension": ".py",
   "mimetype": "text/x-python",
   "name": "python",
   "nbconvert_exporter": "python",
   "pygments_lexer": "ipython3",
   "version": "3.12.6"
  }
 },
 "nbformat": 4,
 "nbformat_minor": 5
}

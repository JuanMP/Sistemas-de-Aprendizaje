{
 "cells": [
  {
   "cell_type": "markdown",
   "id": "4236c38b",
   "metadata": {},
   "source": [
    "### 📌ACTIVIDAD 3: ÁRBOLES DE DECISIÓN PARA REGRESIÓN\n",
    "\n",
    "Crea el notebook saa_u03_p01_a3-<tus_iniciales>.ipynb donde entregar esta actividad.\n",
    "\n",
    "Los árboles de decisión son propensos a presentar overfitting. En scikit-learn podemos reducirlo ajustando ciertos hiperparámetros. En el caso de DecisionTreeRegressor:\n",
    "\n",
    "• Antes del entrenamiento:\n",
    "◦ Limitar la profundidad del árbol (max_depth)\n",
    "◦ Restringir el número mínimo de muestras por nodo (min_samples_split, min_samples_leaf)\n",
    "• Poda después del entrenamiento:\n",
    "◦ Reducir la complejidad con \"ccp_alfa\".\n",
    "Utiliza los modelos DecisionTreeRegressor, GradientBoostingRegressor, XGBRegressor y\n",
    "RandomForestRegressor para entrenarlos con los datos del ejercicio anterior intentando mejorar los\n",
    "resultados en caso de haberlos usado ya, o bajar el overfitting en caso de no haberlos usado."
   ]
  },
  {
   "cell_type": "markdown",
   "id": "7142b949",
   "metadata": {},
   "source": [
    "### ENTREGA 7: Muestra Código, gráficos y capturas de ejecución de:\n",
    "\n",
    "a) Carga de datos y preprocesamiento (si es necesario).\n",
    "\n",
    "b) Entrenamiento y configuración del DecisionTreeRegresor: desempeño inicial, cambio de hiperparámetros y desempeño final.\n",
    "\n",
    "c) Igual para el GradientBoostingRegressor.\n",
    "\n",
    "d) Igual para XGBRegressor.\n",
    "\n",
    "e) Igual para RandomForestregressor.\n",
    "\n",
    "f) Importancia o influencia de cada característica en alguno de los modelos."
   ]
  },
  {
   "cell_type": "code",
   "execution_count": null,
   "id": "9be254bd",
   "metadata": {},
   "outputs": [],
   "source": []
  },
  {
   "cell_type": "markdown",
   "id": "ff7ddeac",
   "metadata": {},
   "source": []
  }
 ],
 "metadata": {
  "kernelspec": {
   "display_name": "Python 3",
   "language": "python",
   "name": "python3"
  },
  "language_info": {
   "codemirror_mode": {
    "name": "ipython",
    "version": 3
   },
   "file_extension": ".py",
   "mimetype": "text/x-python",
   "name": "python",
   "nbconvert_exporter": "python",
   "pygments_lexer": "ipython3",
   "version": "3.12.6"
  }
 },
 "nbformat": 4,
 "nbformat_minor": 5
}

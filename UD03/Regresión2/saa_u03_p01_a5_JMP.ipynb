{
 "cells": [
  {
   "cell_type": "markdown",
   "id": "dbe5b72b",
   "metadata": {},
   "source": [
    "### 📌ACTIVIDAD 5: REGRESIÓN A PARTIR DE FOTOGRAFÍAS\n",
    "\n",
    "#### DEFINIR PROBLEMA Y RECOPILAR DATOS\n",
    "\n",
    "Crea el notebook saa_u03_p01_a5-<tus_iniciales>.ipynb donde entregar esta actividad. Necesitamos\n",
    "consensuar por votación 2 posibles problemas (lo que escoja la mayoría de la clase gana) más que\n",
    "nada por obtener suficiente cantidad de datos de alguno de los problemas:\n",
    "\n",
    "\n",
    "a) Predecir la edad de una persona: Si nadie está en contra de aportar fotografías personales,\n",
    "cada alumno buscará 10 fotografías suyas o de conocidos (propias, familia, amigos, …)\n",
    "realizadas en diferentes edades y las etiquetará con la edad que tenía en ese momento la\n",
    "persona que aparece \"edad_<JMP>-<num_foto>.jpg\" o \"edad_<JMP>-\n",
    "<num_foto>.png\". En el caso de descargar de Internet las imágenes o de generarlas con\n",
    "aplicaciones tened cuidado porque al buscar os pueden aparecer las mismas fotografías para\n",
    "diferentes edades. La cara debe cubrir casi toda la foto (sin paisaje de fondo: ajustar el borde de\n",
    "abajo a la barbilla y los laterales a las orejas y el borde superior al pelo) y la persona debe estar\n",
    "mirando de frente\n",
    "\n"
   ]
  }
 ],
 "metadata": {
  "kernelspec": {
   "display_name": "Python 3",
   "language": "python",
   "name": "python3"
  },
  "language_info": {
   "name": "python",
   "version": "3.12.6"
  }
 },
 "nbformat": 4,
 "nbformat_minor": 5
}

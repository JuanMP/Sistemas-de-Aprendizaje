{
 "cells": [
  {
   "cell_type": "markdown",
   "id": "ac22b447",
   "metadata": {},
   "source": [
    "### 📌ACTIVIDAD 4: CLASIFICAR OBRAS DE ARTE\n",
    "\n",
    "Crea el notebook saa-u03-p02-a4-<tus_iniciales>.ipynb donde completar la actividad. La actividad va a consistir en implementar un modelo clasificador al que podamos pasar un cuadro y este intente indicarnos el autor de la obra de arte y con qué probabilidad es de este artista.\n",
    "\n",
    "#### DEFINIR DATASET\n",
    "\n",
    "Debes acceder a la carpeta 📂 carpeta y buscar un cuadro de cada uno de estos pintores: Cezánne, Dalí, Gauguin, Goya, Kandinsky, Miró, Monet, Picasso, Renoir, Rubens, Sorolla, Tiziano, Vangogh y Velázquez. Ya hay 14 ficheros que puedes usar además de los que tu mismo busques. Debes dejar en la carpeta tus ficheros con el formato pintor-<tus_iniciales>-fichero.png. Una vez tengamos suficientes datos, puedes utilizar la misma técnica que usamos en la práctica anterior para generar un .csv con los datos. Elige tu mismo un tamaño de la imagen (recuerda que nuestros recursos son locales y a mayor tamaño más características y mayor procesamiento necesitaremos, intenta que el tamaño tenga la relación de aspecto 4:3). Nuestro target será el nombre del artista. Será por tanto una clasificación multiclase.\n",
    "\n",
    "#### IMPLEMENTAR CLASIFICADORES\n",
    "\n",
    "Prueba al menos a entrenar 2 clasificadores:\n",
    "\n",
    "• El primero: SVC ó Árbol ó RandomForest.\n",
    "\n",
    "• El segundo: método ensemble: Boost/Bagging.\n",
    "\n",
    "Puedes utilizar lo que hicimos en la práctica anterior: defines un diccionario que contenga pipelines que preprocesen y entrenen a cada clasificador y lo haces en un bucle. O puedes hacerlo uno a uno de forma manual, como prefieras.\n",
    "\n",
    "#### MEDIR DESEMPEÑO\n",
    "\n",
    "Mide el desempeño de todos, muestra informes de entrenamiento y la matriz de confusión. Haz un gráfico de barras donde aparezcan los puntajes obtenidos por cada uno en train y test.\n",
    "\n",
    "#### MEJORAR ALGUNO AJUSTANDO HIPERPARÁMETROS\n",
    "\n",
    "Escoge el que quieras y define el objetivo que quieres conseguir: o mejorar su puntaje o bajar el overfitting, mediante el ajuste de uno o varios de sus hiperparámetros. Mide y muestra de nuevo el desempeño en train y en test.\n",
    "\n",
    "### ENTREGA 7:\n",
    "\n",
    "a) Fotografías subidas a la carpeta compartida:\n",
    "\n",
    "b) Fichero csv con los datos de las fotografías transformado y código que las transforma.\n",
    "\n",
    "c) División de los datos en train y test dejando el 80% de datos para train e intentando no desbalancear los datos y con tu propia semilla aleatoria.\n",
    "\n",
    "d) Realizar entrenamiento de los 4 clasificadores.\n",
    "\n",
    "e) Mostrar informe de clasificación.\n",
    "\n",
    "f) Mostrar matriz de confusión.\n",
    "\n",
    "g) Mostrar gráfico comparativo.\n",
    "\n",
    "h) Mejora del desempeño de alguno cambiando sus hiperparámetros"
   ]
  },
  {
   "cell_type": "code",
   "execution_count": null,
   "id": "a5c914a0",
   "metadata": {},
   "outputs": [
    {
     "ename": "FileNotFoundError",
     "evalue": "[WinError 3] El sistema no puede encontrar la ruta especificada: '../U03_Recursos/pintores'",
     "output_type": "error",
     "traceback": [
      "\u001b[1;31m---------------------------------------------------------------------------\u001b[0m",
      "\u001b[1;31mFileNotFoundError\u001b[0m                         Traceback (most recent call last)",
      "Cell \u001b[1;32mIn[1], line 14\u001b[0m\n\u001b[0;32m     10\u001b[0m tamanyo_imagen \u001b[38;5;241m=\u001b[39m (\u001b[38;5;241m92\u001b[39m, \u001b[38;5;241m112\u001b[39m)  \u001b[38;5;66;03m# 4:3\u001b[39;00m\n\u001b[0;32m     12\u001b[0m datos_procesados \u001b[38;5;241m=\u001b[39m []\n\u001b[1;32m---> 14\u001b[0m \u001b[38;5;28;01mfor\u001b[39;00m nombre_archivo \u001b[38;5;129;01min\u001b[39;00m \u001b[43mos\u001b[49m\u001b[38;5;241;43m.\u001b[39;49m\u001b[43mlistdir\u001b[49m\u001b[43m(\u001b[49m\u001b[43mcarpeta\u001b[49m\u001b[43m)\u001b[49m:\n\u001b[0;32m     15\u001b[0m     \u001b[38;5;28;01mif\u001b[39;00m \u001b[38;5;129;01mnot\u001b[39;00m nombre_archivo\u001b[38;5;241m.\u001b[39mlower()\u001b[38;5;241m.\u001b[39mendswith((\u001b[38;5;124m\"\u001b[39m\u001b[38;5;124m.jpg\u001b[39m\u001b[38;5;124m\"\u001b[39m, \u001b[38;5;124m\"\u001b[39m\u001b[38;5;124m.png\u001b[39m\u001b[38;5;124m\"\u001b[39m, \u001b[38;5;124m\"\u001b[39m\u001b[38;5;124m.jpeg\u001b[39m\u001b[38;5;124m\"\u001b[39m,\u001b[38;5;124m\"\u001b[39m\u001b[38;5;124m.jfif\u001b[39m\u001b[38;5;124m\"\u001b[39m)):\n\u001b[0;32m     16\u001b[0m         \u001b[38;5;28;01mcontinue\u001b[39;00m\n",
      "\u001b[1;31mFileNotFoundError\u001b[0m: [WinError 3] El sistema no puede encontrar la ruta especificada: '../U03_Recursos/pintores'"
     ]
    }
   ],
   "source": [
    "import numpy as np\n",
    "import pandas as pd\n",
    "import cv2\n",
    "import os\n",
    "import re\n",
    "\n",
    "# Configuración\n",
    "carpeta = \"cuadros\"\n",
    "archivo_salida = \"cuadros_jmp.csv\"\n",
    "tamanyo_imagen = (92, 112)  # 4:3\n",
    "\n",
    "datos_procesados = []\n",
    "\n",
    "for nombre_archivo in os.listdir(carpeta):\n",
    "    if not nombre_archivo.lower().endswith((\".jpg\", \".png\", \".jpeg\",\".jfif\")):\n",
    "        continue\n",
    "\n",
    "    ruta_completa = os.path.join(carpeta, nombre_archivo)\n",
    "\n",
    "    # Extraer número de artista\n",
    "    coincidencia = re.search(r\"(\\d+)\", nombre_archivo)\n",
    "    if not coincidencia:\n",
    "        continue\n",
    "    artista = int(coincidencia.group(1))\n",
    "\n",
    "    # Leer imagen en escala de grises\n",
    "    imagen = cv2.imread(ruta_completa, cv2.IMREAD_GRAYSCALE)\n",
    "    if imagen is None:\n",
    "        continue\n",
    "\n",
    "    # Redimensionar y normalizar\n",
    "    imagen_escalada = cv2.resize(imagen, tamanyo_imagen, interpolation=cv2.INTER_AREA)\n",
    "    imagen_normalizada = imagen_escalada.astype(np.float32) / 255.0\n",
    "\n",
    "    datos_procesados.append({\n",
    "        \"artista\": artista,\n",
    "        \"imagen\": \",\".join(map(str, imagen_normalizada.flatten()))\n",
    "    })\n",
    "\n",
    "# Crear y guardar DataFrame\n",
    "df = pd.DataFrame(datos_procesados)\n",
    "df.to_csv(archivo_salida, index=False)\n",
    "print(f\"CSV guardado correctamente en: {archivo_salida}\")"
   ]
  }
 ],
 "metadata": {
  "kernelspec": {
   "display_name": "Python 3",
   "language": "python",
   "name": "python3"
  },
  "language_info": {
   "codemirror_mode": {
    "name": "ipython",
    "version": 3
   },
   "file_extension": ".py",
   "mimetype": "text/x-python",
   "name": "python",
   "nbconvert_exporter": "python",
   "pygments_lexer": "ipython3",
   "version": "3.12.6"
  }
 },
 "nbformat": 4,
 "nbformat_minor": 5
}

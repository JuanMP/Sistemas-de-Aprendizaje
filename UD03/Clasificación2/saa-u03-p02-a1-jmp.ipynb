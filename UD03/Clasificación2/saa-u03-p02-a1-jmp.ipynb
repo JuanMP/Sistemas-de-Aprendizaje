{
 "cells": [
  {
   "cell_type": "markdown",
   "id": "9416239d",
   "metadata": {},
   "source": [
    "### 📌ACTIVIDAD 1:  CLASIFICAR CON SVM\n",
    "\n",
    "Crea el notebook saa-u03-p02-a1-<tus_iniciales>.ipynb donde completar la actividad. Comenzamos probando diferentes clasificadores sobre unos datos separables linealmente (con un hiperplano)\n",
    "\n",
    "#### CLASIFICADORES SVC CON DATOS SEPARABLES LINEALMENTE\n",
    "\n",
    " Carga el fichero Social_Network_Ads.csv en un DataFrame de pandas. Este fichero tiene 3 características que son edad, salario y compra. Contiene información de si los usuarios de una red social compran productos que aparecen en la publicidad de esta red social\n",
    "\n",
    " a) Define el target y como compra y edad, salario como  las predictoras X\n",
    " \n",
    "Divide en train y test usando semilla aleatoria formada por la cantidad de letras de tu nombre y apellidos (en mi caso sería 449 porque \"Jose\" tiene 4 letras, \"Rosa\" tiene otras 4 letras y \"Rodríguez\" tiene 9 letras). \n",
    "Luego usa Counter(colección) tras importarla \"from colecctions import Counter\" para calcular las proporciones de valores 0 (no compra) y 1 (si compra) que son las clases de esta tarea de clasificación y asegurarnos de que está balanceado\n",
    "\n",
    "Luego usa Counter(colección) tras importarla \"from colecctions import Counter\" para calcular las proporciones de valores 0 (no compra) y 1 (si compra) que son las clases de esta \n",
    "tarea de clasificación y asegurarnos de que está balanceado\n",
    "\n",
    "b) Escala las características para usar SVM. Imprime máximo, mínimo y media de los valores \n",
    "escalados\n",
    "\n",
    "c) Crea un clasificador SVC con kernel=\"linear\" y random_state al valor de las letras de tus \n",
    "apellidos. El resto de hiperparámetros se ignoran (valores por defecto)\n",
    "\n",
    "d) Para validarlo muestra matriz de confusión, el informe de clasificación y la métrica usada en \n",
    "el entrenamiento que por defecto es accuracy"
   ]
  },
  {
   "cell_type": "markdown",
   "id": "5287dad3",
   "metadata": {},
   "source": []
  }
 ],
 "metadata": {
  "language_info": {
   "name": "python"
  }
 },
 "nbformat": 4,
 "nbformat_minor": 5
}
